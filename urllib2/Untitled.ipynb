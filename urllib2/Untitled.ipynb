{
 "cells": [
  {
   "cell_type": "code",
   "execution_count": 1,
   "metadata": {},
   "outputs": [],
   "source": [
    "from lxml import etree\n",
    "import json"
   ]
  },
  {
   "cell_type": "code",
   "execution_count": 2,
   "metadata": {},
   "outputs": [],
   "source": [
    "class HtmlContent(object):\n",
    "    def __init__(self, content = None):\n",
    "        self.content = content\n",
    "\n",
    "    def tester(self, pattern):\n",
    "        return self.content.xpath(pattern)\n",
    "\n",
    "    def getProfile(self):\n",
    "        #pattern = '//div[@class=\"container company-header-block \"][@id=\"company_web_top\"]/div[@class=\"box\"]/div[@class=\"content\"]/div[@class=\"detail\"]'\n",
    "        pattern = '//div[@class=\"container company-header-block\"][@id=\"company_web_top\"]//div[@class=\"box\"]//div[@class=\"content\"]/div[@class=\"detial\"]'\n",
    "        profile = self.content.xpath(pattern)\n",
    "\n",
    "        phone_number = self.content\n",
    "\n",
    "        return phone_number\n",
    "\n",
    "    def getMarketInfo(self):\n",
    "        pass\n",
    "\n",
    "    def getBackgrounds(self):\n",
    "        pass\n",
    "\n",
    "    def getLegalRisk(self):\n",
    "        pass\n",
    "\n",
    "    def getRunRisk(self):\n",
    "        pass\n",
    "\n",
    "    def getOperationalRisk(self):\n",
    "        pass\n",
    "\n",
    "    def getDevHistory(self):\n",
    "        pass\n",
    "\n",
    "    def getBusinessStatus(self):\n",
    "        pass\n",
    "\n",
    "    def getIntellectualProperty(self):\n",
    "        pass \n",
    "\n",
    "    def getHistory(self):\n",
    "        pass\n"
   ]
  },
  {
   "cell_type": "code",
   "execution_count": 20,
   "metadata": {},
   "outputs": [],
   "source": [
    "f = open('./dongfang.html', 'r')\n",
    "html = f.read()\n",
    "f.close()\n",
    "content = etree.HTML(html)\n",
    "content = HtmlContent(content)\n",
    "#profile = content.getProfile()\n",
    "#print profile\n",
    "c = content.tester('//div[@class=\"container company-header-block \"]//div[@class=\"content\"]//div[@class=\"in-block\"]')\n",
    "\n"
   ]
  },
  {
   "cell_type": "code",
   "execution_count": 24,
   "metadata": {},
   "outputs": [
    {
     "name": "stdout",
     "output_type": "stream",
     "text": [
      "电话：028-87583111[\"028-87583111\",\"028-87898111\"]查看更多\n",
      "邮箱：bsb@dongfang.com[\"bsb@dongfang.com\",\"bsb@dongfang.com\",\"decli@dongfang.com\"]查看更多\n",
      "网址：http://www.DEC-LTD.cn\n",
      "地址：成都市高新西区西芯大道18号\n"
     ]
    }
   ],
   "source": [
    "for item in c:\n",
    "    print item.xpath('string()')"
   ]
  },
  {
   "cell_type": "code",
   "execution_count": null,
   "metadata": {},
   "outputs": [],
   "source": []
  }
 ],
 "metadata": {
  "kernelspec": {
   "display_name": "Python 2",
   "language": "python",
   "name": "python2"
  },
  "language_info": {
   "codemirror_mode": {
    "name": "ipython",
    "version": 2
   },
   "file_extension": ".py",
   "mimetype": "text/x-python",
   "name": "python",
   "nbconvert_exporter": "python",
   "pygments_lexer": "ipython2",
   "version": "2.7.15"
  }
 },
 "nbformat": 4,
 "nbformat_minor": 2
}
